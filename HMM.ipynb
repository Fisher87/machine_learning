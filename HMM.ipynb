{
 "cells": [
  {
   "cell_type": "code",
   "execution_count": 20,
   "metadata": {},
   "outputs": [
    {
     "name": "stdout",
     "output_type": "stream",
     "text": [
      "[[0 0 0]\n",
      " [0 2 2]\n",
      " [0 1 2]]\n",
      "[1, 1, 2]\n",
      "最大的概率为: 0.02688.\n",
      "隐藏序列为：外滩,迪士尼,迪士尼.\n"
     ]
    }
   ],
   "source": [
    "# -*- coding: utf-8 -*-\n",
    "# Using Vertibi algorithm\n",
    "from __future__ import print_function\n",
    "from __future__ import division\n",
    "\n",
    "import numpy as np\n",
    "\n",
    "def Viterbi(A, B, PI, V, Q, obs):\n",
    "    N = len(Q)\n",
    "    T = len(obs)\n",
    "    delta = np.array([[0] * N] * T, dtype=np.float64)\n",
    "    phi = np.array([[0] * N] * T, dtype=np.int64)\n",
    "    \n",
    "    # 初始化\n",
    "    for i in range(N):\n",
    "        delta[0, i] = PI[i]*B[i][V.index(obs[0])]\n",
    "        phi[0, i] = 0\n",
    "#     print(delta)\n",
    "#     print(phi)\n",
    "\n",
    "    # 递归计算\n",
    "    for i in range(1, T):\n",
    "        for j in range(N):\n",
    "            tmp = [delta[i-1, k]*A[k][j] for k in range(N)]\n",
    "            delta[i,j] = max(tmp) * B[j][V.index(obs[i])]\n",
    "            phi[i,j] = tmp.index(max(tmp))\n",
    "\n",
    "    # 最终的概率及节点\n",
    "#     print(delta)\n",
    "    print(phi)\n",
    "    P = max(delta[T-1, :])\n",
    "    I = int(np.argmax(delta[T-1, :]))\n",
    "\n",
    "    # 最优路径path\n",
    "    path = [I]\n",
    "    for i in reversed(range(1, T)):\n",
    "        end = path[-1]\n",
    "        path.append(phi[i, end])\n",
    "    print(path)\n",
    "    hidden_states = [Q[i] for i in reversed(path)]\n",
    "\n",
    "    return P, hidden_states\n",
    "\n",
    "\n",
    "def main():\n",
    "\n",
    "    # 状态集合\n",
    "    Q = (u'欢乐谷', u'迪士尼', u'外滩')\n",
    "    # 观测集合\n",
    "    V = [u'购物', u'不购物']\n",
    "    # 转移概率: Q -> Q\n",
    "    A = [[0.8, 0.05, 0.15],\n",
    "         [0.2, 0.6, 0.2],\n",
    "         [0.2, 0.3, 0.5]\n",
    "        ]\n",
    "\n",
    "    # 发射概率, Q -> V\n",
    "    B = [[0.1, 0.9],\n",
    "         [0.8, 0.2],\n",
    "         [0.3, 0.7]\n",
    "         ]\n",
    "\n",
    "    # 初始概率\n",
    "    PI = [1/3, 1/3, 1/3]\n",
    "\n",
    "    # 观测序列\n",
    "    obs = [u'不购物', u'购物', u'购物']\n",
    "\n",
    "    P, hidden_states = Viterbi(A,B,PI,V,Q,obs)\n",
    "    print(u'最大的概率为: %.5f.'%P)\n",
    "    print(u'隐藏序列为：%s.'%','.join(hidden_states))\n",
    "\n",
    "main()"
   ]
  }
 ],
 "metadata": {
  "kernelspec": {
   "display_name": "Python 2",
   "language": "python",
   "name": "python2"
  },
  "language_info": {
   "codemirror_mode": {
    "name": "ipython",
    "version": 2
   },
   "file_extension": ".py",
   "mimetype": "text/x-python",
   "name": "python",
   "nbconvert_exporter": "python",
   "pygments_lexer": "ipython2",
   "version": "2.7.15"
  }
 },
 "nbformat": 4,
 "nbformat_minor": 2
}
