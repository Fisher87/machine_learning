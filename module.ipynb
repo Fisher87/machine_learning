{
 "cells": [
  {
   "cell_type": "markdown",
   "metadata": {},
   "source": [
    "## dropout"
   ]
  },
  {
   "cell_type": "code",
   "execution_count": 3,
   "metadata": {},
   "outputs": [],
   "source": [
    "import numpy as np\n",
    "\n",
    "def dropout(x, level):\n",
    "    if level<0 or level>=1:\n",
    "        raise Exception(\"Dropout level must be in interval [0., 1.]\")\n",
    "    retain_prob = 1. - level\n",
    "    sample = np.random.binomial(n=1, p=retain_prob, size=x.shape)\n",
    "    x *= sample\n",
    "    x /= retain_prob\n",
    "    \n",
    "    return x"
   ]
  }
 ],
 "metadata": {
  "kernelspec": {
   "display_name": "Python 2",
   "language": "python",
   "name": "python2"
  },
  "language_info": {
   "codemirror_mode": {
    "name": "ipython",
    "version": 2
   },
   "file_extension": ".py",
   "mimetype": "text/x-python",
   "name": "python",
   "nbconvert_exporter": "python",
   "pygments_lexer": "ipython2",
   "version": "2.7.15"
  }
 },
 "nbformat": 4,
 "nbformat_minor": 2
}
