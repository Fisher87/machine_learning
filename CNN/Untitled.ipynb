{
 "cells": [
  {
   "cell_type": "code",
   "execution_count": 31,
   "metadata": {},
   "outputs": [
    {
     "name": "stdout",
     "output_type": "stream",
     "text": [
      "676 745\n",
      "(662, 694)\n"
     ]
    }
   ],
   "source": [
    "from PIL import Image\n",
    "im = Image.open('./hands/0.png')\n",
    "width, height = im.size\n",
    "#im.show()\n",
    "print(width, height)  #5*5\n",
    "#box = (0,0,width,80)\n",
    "box = (8, 43, width-6, height-8)\n",
    "\n",
    "region = im.crop(box)\n",
    "print(region.size)\n",
    "region.show()\n",
    "\n",
    "w, h = region.size\n",
    "nbox = (0, 0, 132.4, 138.8)\n",
    "nr = region.crop(nbox)\n",
    "nr.show()\n",
    "#row\n",
    "#for i in range(5):\n",
    "    #col\n",
    " #   for j in range(5):\n",
    "  #      nbox = (0+j*132.4, 0+i*138.8, width-(4-i)*132.4, height-(4-j)*138.8)\n",
    "   #     nr = region.crop(nbox)\n",
    "        #nr.show()\n",
    "        "
   ]
  },
  {
   "cell_type": "code",
   "execution_count": 34,
   "metadata": {},
   "outputs": [
    {
     "name": "stdout",
     "output_type": "stream",
     "text": [
      "Original image info: 662x694, None, RGBA\n",
      "图片切割完毕，共生成 0 张小图片。\n"
     ]
    }
   ],
   "source": [
    "import os\n",
    "from PIL import Image\n",
    "\n",
    "def splitimage(img, rownum, colnum, dstpath):\n",
    "    #img = Image.open(src)\n",
    "    w, h = img.size\n",
    "    if rownum <= h and colnum <= w:\n",
    "        print('Original image info: %sx%s, %s, %s' % (w, h, img.format, img.mode))\n",
    "\n",
    "        num = 0\n",
    "        rowheight = h // rownum\n",
    "        colwidth = w // colnum\n",
    "        for r in range(rownum):\n",
    "            for c in range(colnum):\n",
    "                box = (c * colwidth, r * rowheight, (c + 1) * colwidth, (r + 1) * rowheight)\n",
    "                #img.crop(box).save(os.path.join(dstpath, basename + '_' + str(num) + '.' + ext), ext)\n",
    "                nimage = img.crop(box)\n",
    "                nimage.show()\n",
    "                #num = num + 1\n",
    "\n",
    "        print('图片切割完毕，共生成 %s 张小图片。' % num)\n",
    "    else:\n",
    "        print('不合法的行列切割参数！')\n",
    "\n",
    "splitimage(region, 5,5,'')\n"
   ]
  }
 ],
 "metadata": {
  "kernelspec": {
   "display_name": "Python 3",
   "language": "python",
   "name": "python3"
  },
  "language_info": {
   "codemirror_mode": {
    "name": "ipython",
    "version": 3
   },
   "file_extension": ".py",
   "mimetype": "text/x-python",
   "name": "python",
   "nbconvert_exporter": "python",
   "pygments_lexer": "ipython3",
   "version": "3.6.1"
  }
 },
 "nbformat": 4,
 "nbformat_minor": 2
}
